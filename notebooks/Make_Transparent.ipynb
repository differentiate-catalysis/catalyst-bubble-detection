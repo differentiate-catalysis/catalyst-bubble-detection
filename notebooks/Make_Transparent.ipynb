{
 "cells": [
  {
   "cell_type": "code",
   "execution_count": 42,
   "metadata": {},
   "outputs": [],
   "source": [
    "from PIL import Image, ImageOps\n",
    "import matplotlib.pyplot as plt\n",
    "\n",
    "import os\n",
    "import glob"
   ]
  },
  {
   "cell_type": "code",
   "execution_count": 34,
   "metadata": {},
   "outputs": [],
   "source": [
    "images = 'data/images'\n",
    "masks = 'data/labels'\n",
    "destination = 'data/black_bg'\n",
    "inverse = False\n",
    "black_bg = True"
   ]
  },
  {
   "cell_type": "code",
   "execution_count": 35,
   "metadata": {},
   "outputs": [],
   "source": [
    "def find_file(filename, dir):\n",
    "    name = os.path.splitext(filename)[0]\n",
    "    for dir_file in os.listdir(dir):\n",
    "        if (os.path.splitext(dir_file)[0] == name):\n",
    "            return dir_file\n",
    "    return None"
   ]
  },
  {
   "cell_type": "code",
   "execution_count": 36,
   "metadata": {},
   "outputs": [
    {
     "name": "stdout",
     "output_type": "stream",
     "text": [
      "titanium_sharpied2.png\n",
      "pristine16.jpg\n",
      "titanium_smooth2.jpg\n",
      "pristine15.jpg\n",
      "titanium_sharpied7.png\n",
      "titanium_sanded8.png\n",
      "pristine2.jpg\n",
      "titanium_sanded5.png\n",
      "aluminum_reflective6.png\n",
      "graphite1.jpg\n",
      "titanium_sharpied4.png\n",
      "titanium_sanded1.png\n",
      "titanium_sharpied6.png\n",
      "aluminum_reflective4.png\n",
      "titanium_sanded3.png\n",
      "aluminum_reflective1.png\n",
      "anl2.png\n",
      "aluminum_reflective10.png\n",
      "titanium_sharpied5.png\n",
      "aluminum_reflective7.png\n",
      "anl4.png\n",
      "aluminum_reflective3.png\n",
      "titanium_sanded4.png\n",
      "titanium_sharpied3.png\n",
      "titanium_smooth4.jpg\n",
      "pristine14.jpg\n",
      "verydark1.png\n",
      "anl3.png\n",
      "pristine12.jpg\n",
      "pristine13.jpg\n",
      "pristine11.jpg\n",
      "aluminum_reflective5.png\n",
      "aluminum_reflective12.png\n",
      "titanium_sanded9.png\n",
      "verydark2.png\n",
      "titanium_smooth1.jpg\n",
      "pristine7.jpg\n",
      "titanium_smooth3.jpg\n",
      "pristine6.jpg\n",
      "pristine17.jpg\n",
      "titanium_sanded10.png\n",
      "titanium_sanded7.png\n",
      "pristine9.jpg\n",
      "aluminum_reflective11.png\n",
      "aluminum_reflective9.png\n",
      "aluminum_reflective2.png\n",
      "titanium_sanded2.png\n",
      "titanium_smooth5.jpg\n",
      "anl1.png\n",
      "aluminum_reflective8.png\n",
      "titanium_sharpied1.png\n",
      "pristine3.jpg\n",
      "pristine4.jpg\n",
      "pristine8.jpg\n",
      "pristine5.jpg\n",
      "pristine1.jpg\n",
      "pristine10.jpg\n",
      "titanium_sanded6.png\n",
      "graphite2.jpg\n"
     ]
    }
   ],
   "source": [
    "for im_file in os.listdir(images):\n",
    "    print(im_file)\n",
    "    image = Image.open(os.path.join(images, im_file))\n",
    "    mask_name = find_file(im_file, masks)\n",
    "    if not mask_name:\n",
    "        continue\n",
    "    mask = Image.open(os.path.join(masks, mask_name))\n",
    "    mask = mask.convert('L')\n",
    "    if inverse:\n",
    "        mask = ImageOps.invert(mask)\n",
    "    if black_bg:\n",
    "        black_img = Image.new(\"L\", image.size, 0)\n",
    "        image = Image.composite(image, black_img, mask)\n",
    "    else:    \n",
    "        image.putalpha(mask)\n",
    "    image.save(os.path.join(destination, os.path.splitext(im_file)[0] + \".png\"))"
   ]
  },
  {
   "cell_type": "markdown",
   "metadata": {},
   "source": [
    "### Convert back to one image"
   ]
  },
  {
   "cell_type": "code",
   "execution_count": 46,
   "metadata": {},
   "outputs": [],
   "source": [
    "bubble_path = '/home/nathan/development/bubbles/style-transfer/output_ims/resultonly/bubbles/pristinetoalulong.png'\n",
    "bg_path = '/home/nathan/development/bubbles/style-transfer/output_ims/resultonly/bgs/pristinetoalulong.png'\n",
    "mask_path = 'data/labels/pristine17.png'\n",
    "dest_path = 'data/synthesized/pristinetoalulong.png'"
   ]
  },
  {
   "cell_type": "code",
   "execution_count": 48,
   "metadata": {},
   "outputs": [],
   "source": [
    "bubble_im = Image.open(bubble_path)\n",
    "bg_im = Image.open(bg_path)\n",
    "mask = Image.open(mask_path)\n",
    "mask = mask.convert('L')\n",
    "mask = mask.resize(bg_im.size)\n",
    "image = Image.composite(bubble_im, bg_im, mask)\n",
    "image.save(dest_path)"
   ]
  },
  {
   "cell_type": "code",
   "execution_count": null,
   "metadata": {},
   "outputs": [],
   "source": []
  }
 ],
 "metadata": {
  "interpreter": {
   "hash": "05c57a26264523b30fd0b36e5bb1e6303c866ad101debe18bb89ecb199e8c6a0"
  },
  "kernelspec": {
   "display_name": "Python 3.8.8 64-bit ('base': conda)",
   "language": "python",
   "name": "python3"
  },
  "language_info": {
   "codemirror_mode": {
    "name": "ipython",
    "version": 3
   },
   "file_extension": ".py",
   "mimetype": "text/x-python",
   "name": "python",
   "nbconvert_exporter": "python",
   "pygments_lexer": "ipython3",
   "version": "3.8.8"
  },
  "orig_nbformat": 4
 },
 "nbformat": 4,
 "nbformat_minor": 2
}
