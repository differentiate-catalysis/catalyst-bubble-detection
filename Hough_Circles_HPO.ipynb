{
 "cells": [
  {
   "cell_type": "code",
   "execution_count": 36,
   "metadata": {},
   "outputs": [],
   "source": [
    "import numpy as np\n",
    "import cv2\n",
    "import matplotlib.pyplot as plt\n",
    "from ray import tune\n",
    "import torch\n",
    "import os\n",
    "%matplotlib inline"
   ]
  },
  {
   "cell_type": "code",
   "execution_count": 39,
   "metadata": {},
   "outputs": [],
   "source": [
    "all_pristine = [cv2.imread('images/'+i) for i in sorted(os.listdir('images'))]\n",
    "all_labels = [cv2.imread('labels/'+i) for i in sorted(os.listdir('labels'))]"
   ]
  },
  {
   "cell_type": "code",
   "execution_count": 37,
   "metadata": {},
   "outputs": [],
   "source": [
    "def run_hough(test_pristine,show=False,return_build_mask=False,\\\n",
    "              blur=9,dp=1,param1=50,param2=20):\n",
    "    #HOUGH_GRADIENT, HOUGH_GRADIENT_ALT eventually? Same with Gaussian vs. Median\n",
    "    #blur: in list [3,5,7,9,11,13,15,17]\n",
    "    #dp: float in range 1 to 3\n",
    "    #param1: int in range(10,1000)\n",
    "    #param2: int in range(5,100)\n",
    "    gray = cv2.medianBlur(cv2.cvtColor(test_pristine,cv2.COLOR_RGB2GRAY), blur)\n",
    "    circles = cv2.HoughCircles(gray,cv2.HOUGH_GRADIENT,dp,20,\n",
    "                                param1=param1,param2=param2,minRadius=0,maxRadius=60)\n",
    "    cimg = test_pristine.copy()\n",
    "    circles = np.uint16(np.around(circles))\n",
    "    if show:\n",
    "        for i in circles[0,:]:\n",
    "            cv2.circle(cimg,(i[0],i[1]),i[2],(0,255,0),2)\n",
    "        plt.figure(figsize=(16,8))\n",
    "        plt.imshow(cimg)\n",
    "        plt.show()\n",
    "    out_dict = {}\n",
    "    all_boxes = []\n",
    "    scores = []\n",
    "    labels = []\n",
    "    for i in range(len(circles[0,:])):\n",
    "        all_boxes.append([circles[0,:][i][0]-circles[0,:][i][2],\\\n",
    "                          circles[0,:][i][1]-circles[0,:][i][2],\\\n",
    "                          circles[0,:][i][0]+circles[0,:][i][2],\\\n",
    "                          circles[0,:][i][1]+circles[0,:][i][2]])\n",
    "        scores.append(1./(i+1))\n",
    "        labels.append(1)\n",
    "    out_dict['boxes']=torch.Tensor(all_boxes)\n",
    "    out_dict['scores']=torch.Tensor(scores)\n",
    "    out_dict['labels']=torch.Tensor(labels)\n",
    "    if return_build_mask:\n",
    "        build_mask = np.zeros(test_pristine.shape)\n",
    "        for i in circles[0,:]:\n",
    "            cv2.circle(build_mask,(i[0],i[1]),i[2],(255,255,255),-1)\n",
    "        return build_mask, out_dict\n",
    "    return out_dict"
   ]
  },
  {
   "cell_type": "code",
   "execution_count": 34,
   "metadata": {},
   "outputs": [],
   "source": [
    "#Quick test\n",
    "out_dict = run_hough(all_pristine[0])"
   ]
  },
  {
   "cell_type": "code",
   "execution_count": null,
   "metadata": {},
   "outputs": [],
   "source": [
    "def training_function(config):\n",
    "    # Hyperparameters\n",
    "    blur, dp, param1, param2 = config['blur'], config['dp'], \\\n",
    "                                config['param1'], config['param2']\n",
    "    mAP_loss_li = []\n",
    "    for test_pristine in all_pristine:\n",
    "        hough_dict = run_hough(test_pristine,blur=blur,\\\n",
    "                               dp=dp,param1=param1,param2=param2)\n",
    "        #DEFINE GT_DICT FOR CORRESPONDING IMAGE. DEFINE mAP_loss\n",
    "        mAP_loss_li.append(mean_loss=mAP(hough_dict,GT_dict))\n",
    "    tune.report(mean_loss=np.average(mAP_loss_li))\n",
    "\n",
    "\n",
    "analysis = tune.run(\n",
    "    training_function,\n",
    "    config={\n",
    "        \"blur\": tune.choice([3,5,7,9,11,13,15,17]),\n",
    "        \"dp\": tune.grid_search([1,3]),\n",
    "        \"param1\": tune.choice(range(10,1000)),\n",
    "        \"param2\": tune.choice(range(5,100))\n",
    "    })\n",
    "\n",
    "print(\"Best config: \", analysis.get_best_config(\n",
    "    metric=\"mean_loss\", mode=\"min\"))\n",
    "\n",
    "# Get a dataframe for analyzing trial results.\n",
    "df = analysis.results_df"
   ]
  }
 ],
 "metadata": {
  "kernelspec": {
   "display_name": "Python 3",
   "language": "python",
   "name": "python3"
  },
  "language_info": {
   "codemirror_mode": {
    "name": "ipython",
    "version": 3
   },
   "file_extension": ".py",
   "mimetype": "text/x-python",
   "name": "python",
   "nbconvert_exporter": "python",
   "pygments_lexer": "ipython3",
   "version": "3.8.3"
  }
 },
 "nbformat": 4,
 "nbformat_minor": 4
}
